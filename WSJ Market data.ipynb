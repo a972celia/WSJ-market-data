{
 "cells": [
  {
   "cell_type": "code",
   "execution_count": 83,
   "metadata": {},
   "outputs": [],
   "source": [
    "import requests \n",
    "import numpy as np  \n",
    "from bs4 import BeautifulSoup\n",
    "import pandas as pd"
   ]
  },
  {
   "cell_type": "code",
   "execution_count": 90,
   "metadata": {},
   "outputs": [],
   "source": [
    "exchanges=['shtnyse', 'shtnasdaq','shtamex']\n",
    "datas=['0_9','A','B','C','D','E','F','G','H','I','J','K','L','M','N','O','P','Q','R','S','T','U','V','W','X','Y','Z']"
   ]
  },
  {
   "cell_type": "code",
   "execution_count": 130,
   "metadata": {},
   "outputs": [],
   "source": [
    "def parse_thread(exchange, company_initial, container, header_container):\n",
    " \n",
    "    url = \"http://www.wsj.com/mdc/public/page/2_3062-{exchange}_{company_initial}-listing.html\".format(\n",
    "        exchange = exchange,\n",
    "        company_initial = company_initial)\n",
    "  \n",
    "    res = requests.get(url)\n",
    "    bs4_obj = BeautifulSoup(res.text.replace(\"\\n\",\"\"), \"html.parser\")\n",
    "    trs = bs4_obj.select(\"table tr\")\n",
    "    array_of_rows=  []\n",
    "    for tr in trs:\n",
    "        tds = tr.select(\"td\")\n",
    "        tds_data = [td.text for td in tds]\n",
    "        array_of_rows.append(tds_data)\n",
    "    array_of_rows = array_of_rows[2:]\n",
    "    container += array_of_rows[1:-5]\n",
    "    header_container[0] = array_of_rows[0]\n",
    "   "
   ]
  },
  {
   "cell_type": "code",
   "execution_count": 185,
   "metadata": {},
   "outputs": [],
   "source": [
    "import threading \n",
    "def run_with_thread():\n",
    "    threads = []\n",
    "    combined_data = []\n",
    "    header_container = [None]\n",
    "    import time\n",
    "    for exchange in exchanges:\n",
    "        print(exchange)\n",
    "        for company_initial in datas:\n",
    "            t = threading.Thread(target = parse_thread,args =(exchange, company_initial, combined_data, header_container,))\n",
    "            t.start()\n",
    "            threads.append(t)\n",
    "            time.sleep(0.05)\n",
    "\n",
    "    for t in threads:\n",
    "        t.join()\n",
    "    \n",
    "\n",
    "    df = pd.DataFrame(combined_data, columns = header_container[0])\n",
    "    return df\n",
    "        "
   ]
  },
  {
   "cell_type": "code",
   "execution_count": null,
   "metadata": {},
   "outputs": [],
   "source": []
  },
  {
   "cell_type": "code",
   "execution_count": 173,
   "metadata": {},
   "outputs": [],
   "source": [
    "def parse(exchange, company_initial):\n",
    " \n",
    "    url = \"http://www.wsj.com/mdc/public/page/2_3062-{}_{}-listing.html\".format(\n",
    "        exchange,\n",
    "        company_initial)\n",
    " \n",
    "    res = requests.get(url)\n",
    "    bs4_obj = BeautifulSoup(res.text.replace(\"\\n\",\"\"), \"html.parser\")\n",
    "    trs = bs4_obj.select(\"table tr\")\n",
    "    array_of_rows=  []\n",
    "    for tr in trs:\n",
    "        tds = tr.select(\"td\")\n",
    "        tds_data = [td.text for td in tds]\n",
    "        if (len(tds_data)!=9):\n",
    "            pass\n",
    "        else:\n",
    "           \n",
    "            array_of_rows.append(tds_data)\n",
    "            \n",
    "            \n",
    "    headers = array_of_rows[0] if len(array_of_rows)>=1 else []\n",
    "    needed_data = array_of_rows[1:] if len(array_of_rows)>=2 else []\n",
    "    \n",
    "    return needed_data, headers\n",
    "  \n",
    "   "
   ]
  },
  {
   "cell_type": "code",
   "execution_count": 181,
   "metadata": {},
   "outputs": [],
   "source": [
    "def run_without_thread():\n",
    "    header = None\n",
    "    combined_data = []\n",
    "    for exchange in exchanges:\n",
    "        print(exchange)\n",
    "        for company_initial in datas:\n",
    "            needed_data, headers = parse(exchange, company_initial)\n",
    "            combined_data += needed_data\n",
    "            header = headers\n",
    "    df = pd.DataFrame(combined_data, columns = header)\n",
    "    return df\n",
    "    \n",
    "        "
   ]
  },
  {
   "cell_type": "code",
   "execution_count": 186,
   "metadata": {},
   "outputs": [
    {
     "name": "stdout",
     "output_type": "stream",
     "text": [
      "shtnyse\n",
      "shtnasdaq\n",
      "shtamex\n",
      "run with thread spends = 0:00:14.466025\n"
     ]
    }
   ],
   "source": [
    "import datetime\n",
    "start = datetime.datetime.now()\n",
    "df = run_with_thread()\n",
    "finish = datetime.datetime.now()\n",
    "print(\"run with thread spends = {}\".format(finish-start))\n"
   ]
  },
  {
   "cell_type": "code",
   "execution_count": 182,
   "metadata": {},
   "outputs": [
    {
     "name": "stdout",
     "output_type": "stream",
     "text": [
      "shtnyse\n",
      "shtnasdaq\n",
      "shtamex\n",
      "run without thread spends = 0:02:39.815195\n"
     ]
    }
   ],
   "source": [
    "start = datetime.datetime.now()\n",
    "df = run_without_thread()\n",
    "finish = datetime.datetime.now()\n",
    "print(\"run without thread spends = {}\".format(finish-start))"
   ]
  },
  {
   "cell_type": "code",
   "execution_count": 184,
   "metadata": {},
   "outputs": [
    {
     "name": "stdout",
     "output_type": "stream",
     "text": [
      "<class 'pandas.core.frame.DataFrame'>\n",
      "RangeIndex: 8178 entries, 0 to 8177\n",
      "Data columns (total 9 columns):\n",
      "Company            8178 non-null object\n",
      "Symbol             8178 non-null object\n",
      "3/15/19            8178 non-null object\n",
      "2/28/19            8178 non-null object\n",
      "Chg                8178 non-null object\n",
      "% Chg              8178 non-null object\n",
      "% Float            8178 non-null object\n",
      "Days tocover       8178 non-null object\n",
      "Avg dailyvolume    8178 non-null object\n",
      "dtypes: object(9)\n",
      "memory usage: 575.1+ KB\n"
     ]
    }
   ],
   "source": [
    "df.info()"
   ]
  },
  {
   "cell_type": "code",
   "execution_count": null,
   "metadata": {},
   "outputs": [],
   "source": []
  }
 ],
 "metadata": {
  "kernelspec": {
   "display_name": "Python 3",
   "language": "python",
   "name": "python3"
  },
  "language_info": {
   "codemirror_mode": {
    "name": "ipython",
    "version": 3
   },
   "file_extension": ".py",
   "mimetype": "text/x-python",
   "name": "python",
   "nbconvert_exporter": "python",
   "pygments_lexer": "ipython3",
   "version": "3.6.4"
  }
 },
 "nbformat": 4,
 "nbformat_minor": 2
}
